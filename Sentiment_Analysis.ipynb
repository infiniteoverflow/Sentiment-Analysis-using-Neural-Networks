{
  "nbformat": 4,
  "nbformat_minor": 0,
  "metadata": {
    "colab": {
      "name": "Sentiment Analysis.ipynb",
      "provenance": [],
      "authorship_tag": "ABX9TyPutmrViivi+OwT+B0+o4WJ",
      "include_colab_link": true
    },
    "kernelspec": {
      "name": "python3",
      "display_name": "Python 3"
    }
  },
  "cells": [
    {
      "cell_type": "markdown",
      "metadata": {
        "id": "view-in-github",
        "colab_type": "text"
      },
      "source": [
        "<a href=\"https://colab.research.google.com/github/infiniteoverflow/Sentiment-Analysis-using-Neural-Networks/blob/master/Sentiment_Analysis.ipynb\" target=\"_parent\"><img src=\"https://colab.research.google.com/assets/colab-badge.svg\" alt=\"Open In Colab\"/></a>"
      ]
    },
    {
      "cell_type": "markdown",
      "metadata": {
        "id": "_CZCjh3c8Ezb",
        "colab_type": "text"
      },
      "source": [
        "# Curating the Dataset"
      ]
    },
    {
      "cell_type": "code",
      "metadata": {
        "id": "dp3bgLb48EQy",
        "colab_type": "code",
        "colab": {}
      },
      "source": [
        "def pretty_print_review_and_label(i):\n",
        "    print(labels[i] + \"\\t:\\t\" + reviews[i][:80] + \"...\")\n",
        "\n",
        "g = open('/tmp/Dataset/reviews.txt','r') # What we know!\n",
        "reviews = list(map(lambda x:x[:-1],g.readlines()))\n",
        "g.close()\n",
        "\n",
        "g = open('/tmp/Dataset/labels.txt','r') # What we WANT to know!\n",
        "labels = list(map(lambda x:x[:-1].upper(),g.readlines()))\n",
        "g.close()"
      ],
      "execution_count": 0,
      "outputs": []
    },
    {
      "cell_type": "code",
      "metadata": {
        "id": "W52zgrXh4dDy",
        "colab_type": "code",
        "colab": {
          "base_uri": "https://localhost:8080/",
          "height": 34
        },
        "outputId": "ec8b0602-0e66-4773-9406-643824046c9e"
      },
      "source": [
        "len(reviews)"
      ],
      "execution_count": 6,
      "outputs": [
        {
          "output_type": "execute_result",
          "data": {
            "text/plain": [
              "25000"
            ]
          },
          "metadata": {
            "tags": []
          },
          "execution_count": 6
        }
      ]
    },
    {
      "cell_type": "code",
      "metadata": {
        "id": "PuF-61Ja6N2U",
        "colab_type": "code",
        "colab": {
          "base_uri": "https://localhost:8080/",
          "height": 54
        },
        "outputId": "228aad65-6aa4-4b89-8518-7810a91df797"
      },
      "source": [
        "reviews[1]"
      ],
      "execution_count": 8,
      "outputs": [
        {
          "output_type": "execute_result",
          "data": {
            "text/plain": [
              "'story of a man who has unnatural feelings for a pig . starts out with a opening scene that is a terrific example of absurd comedy . a formal orchestra audience is turned into an insane  violent mob by the crazy chantings of it  s singers . unfortunately it stays absurd the whole time with no general narrative eventually making it just too off putting . even those from the era should be turned off . the cryptic dialogue would make shakespeare seem easy to a third grader . on a technical level it  s better than you might think with some good cinematography by future great vilmos zsigmond . future stars sally kirkland and frederic forrest can be seen briefly .  '"
            ]
          },
          "metadata": {
            "tags": []
          },
          "execution_count": 8
        }
      ]
    },
    {
      "cell_type": "code",
      "metadata": {
        "id": "MkOUA8KB8Z-J",
        "colab_type": "code",
        "colab": {
          "base_uri": "https://localhost:8080/",
          "height": 34
        },
        "outputId": "4c21a9dc-9aec-42e9-c202-586d8d7ce119"
      },
      "source": [
        "labels[1]"
      ],
      "execution_count": 9,
      "outputs": [
        {
          "output_type": "execute_result",
          "data": {
            "text/plain": [
              "'NEGATIVE'"
            ]
          },
          "metadata": {
            "tags": []
          },
          "execution_count": 9
        }
      ]
    },
    {
      "cell_type": "markdown",
      "metadata": {
        "id": "M28z_ac_8kLR",
        "colab_type": "text"
      },
      "source": [
        "# Exploring the dataset"
      ]
    },
    {
      "cell_type": "code",
      "metadata": {
        "id": "tUPUx3GW8hQz",
        "colab_type": "code",
        "colab": {
          "base_uri": "https://localhost:8080/",
          "height": 136
        },
        "outputId": "0889a02e-957d-487e-d79e-9c75e89fcb58"
      },
      "source": [
        "print('label\\t\\t: \\t review\\n')\n",
        "\n",
        "pretty_print_review_and_label(2241)\n",
        "pretty_print_review_and_label(1871)\n",
        "pretty_print_review_and_label(6)\n",
        "pretty_print_review_and_label(18)\n",
        "pretty_print_review_and_label(24)"
      ],
      "execution_count": 18,
      "outputs": [
        {
          "output_type": "stream",
          "text": [
            "label\t\t: \t review\n",
            "\n",
            "NEGATIVE\t:\ti bought this at tower records after seeing the info  mercial about fifteen hund...\n",
            "NEGATIVE\t:\tnoting the cast  i recently watched this movie on tcm  hoping for an under  appr...\n",
            "POSITIVE\t:\tthis is easily the most underrated film inn the brooks cannon . sure  its flawed...\n",
            "POSITIVE\t:\tyou know  robin williams  god bless him  is constantly shooting himself in the f...\n",
            "POSITIVE\t:\tthere are many illnesses born in the mind of man which have been given life in m...\n"
          ],
          "name": "stdout"
        }
      ]
    },
    {
      "cell_type": "markdown",
      "metadata": {
        "id": "a3tql-JCBmHB",
        "colab_type": "text"
      },
      "source": [
        "# Developing a Predictive theory"
      ]
    },
    {
      "cell_type": "markdown",
      "metadata": {
        "id": "DYNwctFlBq4B",
        "colab_type": "text"
      },
      "source": [
        "We will now count the occurances of each word in both POSITIVE and NEGATIVE reviews"
      ]
    },
    {
      "cell_type": "code",
      "metadata": {
        "id": "iV9HXo5X8vkl",
        "colab_type": "code",
        "colab": {}
      },
      "source": [
        "from collections import Counter"
      ],
      "execution_count": 0,
      "outputs": []
    },
    {
      "cell_type": "code",
      "metadata": {
        "id": "NqcKF0aMB4cs",
        "colab_type": "code",
        "colab": {}
      },
      "source": [
        "positive_words = Counter()\n",
        "negative_words = Counter()\n",
        "total_words = Counter()"
      ],
      "execution_count": 0,
      "outputs": []
    },
    {
      "cell_type": "code",
      "metadata": {
        "id": "ZvnddqbjCCPk",
        "colab_type": "code",
        "colab": {}
      },
      "source": [
        ""
      ],
      "execution_count": 0,
      "outputs": []
    }
  ]
}